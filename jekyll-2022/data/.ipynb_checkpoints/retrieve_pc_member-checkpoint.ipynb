{
 "cells": [
  {
   "cell_type": "markdown",
   "metadata": {},
   "source": [
    "# Imports"
   ]
  },
  {
   "cell_type": "code",
   "execution_count": null,
   "metadata": {
    "ExecuteTime": {
     "end_time": "2020-09-01T20:37:35.692753Z",
     "start_time": "2020-09-01T20:37:35.690032Z"
    }
   },
   "outputs": [],
   "source": [
    "import pandas as pd\n",
    "import numpy as np"
   ]
  },
  {
   "cell_type": "markdown",
   "metadata": {},
   "source": [
    "# Read Excel file"
   ]
  },
  {
   "cell_type": "code",
   "execution_count": null,
   "metadata": {
    "ExecuteTime": {
     "end_time": "2020-09-01T18:43:03.921211Z",
     "start_time": "2020-09-01T18:43:03.874935Z"
    }
   },
   "outputs": [],
   "source": [
    "df_pc = pd.read_excel('ccgrid_2021_PC_7_31_20.xlsx')\n",
    "\n",
    "df_pc.head()"
   ]
  },
  {
   "cell_type": "markdown",
   "metadata": {},
   "source": [
    "# Application members\n",
    "\n",
    "Applications Papers Committee Member"
   ]
  },
  {
   "cell_type": "code",
   "execution_count": null,
   "metadata": {
    "ExecuteTime": {
     "end_time": "2020-09-01T20:37:37.480207Z",
     "start_time": "2020-09-01T20:37:37.465266Z"
    }
   },
   "outputs": [],
   "source": [
    "def get_html_pc_members(role):\n",
    "    def_selected_members = df_pc[df_pc['Role'] == role]\n",
    "\n",
    "    html_members = \"\"\n",
    "    for index, row in def_selected_members.iterrows():\n",
    "        institution_company = row['Institution/Company']\n",
    "        if institution_company is np.nan:\n",
    "            institution_company = \"\"\n",
    "            member_template = \"\\t<li>{first_name} {last_name}</li>\"\n",
    "            member = member_template.format(\n",
    "                first_name=row['First Name'], \n",
    "                last_name=row['Last Name']\n",
    "            )\n",
    "        else:\n",
    "            member_template = \"\\t<li>{first_name} {last_name}, <i>{institution_company}</i></li>\"\n",
    "            member = member_template.format(\n",
    "                first_name=row['First Name'], \n",
    "                last_name=row['Last Name'], \n",
    "                institution_company=row['Institution/Company']\n",
    "            )\n",
    "        html_members += f\"\\n{member}\"\n",
    "\n",
    "    return html_members\n",
    "\n",
    "\n",
    "role = \"Applications Papers Committee Member\"\n",
    "application_members = get_html_pc_members(role)\n",
    "\n",
    "print(application_members)"
   ]
  },
  {
   "cell_type": "code",
   "execution_count": null,
   "metadata": {
    "ExecuteTime": {
     "end_time": "2020-09-01T20:39:31.746259Z",
     "start_time": "2020-09-01T20:39:31.738309Z"
    }
   },
   "outputs": [],
   "source": [
    "role = \"Architecture Papers Committee Member\"\n",
    "application_members = get_html_pc_members(role)\n",
    "\n",
    "print(application_members)"
   ]
  },
  {
   "cell_type": "code",
   "execution_count": null,
   "metadata": {
    "ExecuteTime": {
     "end_time": "2020-09-01T20:42:22.499624Z",
     "start_time": "2020-09-01T20:42:22.491092Z"
    }
   },
   "outputs": [],
   "source": [
    "role = \"Data, Storage, and Visualization Papers Committee Member\"\n",
    "application_members = get_html_pc_members(role)\n",
    "\n",
    "print(application_members)"
   ]
  },
  {
   "cell_type": "code",
   "execution_count": null,
   "metadata": {
    "ExecuteTime": {
     "end_time": "2020-09-01T20:46:34.080708Z",
     "start_time": "2020-09-01T20:46:34.072101Z"
    }
   },
   "outputs": [],
   "source": [
    "role = \"Programming and System Software Papers Committee Member\"\n",
    "application_members = get_html_pc_members(role)\n",
    "\n",
    "print(application_members)"
   ]
  },
  {
   "cell_type": "code",
   "execution_count": null,
   "metadata": {},
   "outputs": [],
   "source": []
  }
 ],
 "metadata": {
  "kernelspec": {
   "display_name": "Python 3",
   "language": "python",
   "name": "python3"
  },
  "language_info": {
   "codemirror_mode": {
    "name": "ipython",
    "version": 3
   },
   "file_extension": ".py",
   "mimetype": "text/x-python",
   "name": "python",
   "nbconvert_exporter": "python",
   "pygments_lexer": "ipython3",
   "version": "3.7.5"
  },
  "toc": {
   "base_numbering": 1,
   "nav_menu": {},
   "number_sections": true,
   "sideBar": true,
   "skip_h1_title": false,
   "title_cell": "Table of Contents",
   "title_sidebar": "Contents",
   "toc_cell": false,
   "toc_position": {},
   "toc_section_display": true,
   "toc_window_display": false
  }
 },
 "nbformat": 4,
 "nbformat_minor": 2
}
